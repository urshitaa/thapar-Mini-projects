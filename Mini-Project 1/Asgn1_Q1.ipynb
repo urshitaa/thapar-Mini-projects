{
 "cells": [
  {
   "cell_type": "markdown",
   "id": "21b135ab",
   "metadata": {},
   "source": [
    "L is a list defined as L = [11,12,13,14]\n",
    "1. WAP to add 50 and 60 to L\n",
    "2. WAP to remove 11 and 13 from L \n",
    "3. WAP to sort L in asc order \n",
    "4. WAP to sort L in dsc order \n",
    "5. WAP to search for 13 in L.\n",
    "6. WAP to count the number of elements present in L. \n",
    "7. WAP to sum all the elements in L. \n",
    "8. WAP to sum all the odd elements in L. \n",
    "9. WAP to sum all the even elements in L.\n",
    "10. WAP to sum all the PRIME numbers in L.\n",
    "11. WAP to clear all the elements in L.\n",
    "12. WAP to delete L. "
   ]
  },
  {
   "cell_type": "code",
   "execution_count": null,
   "id": "0e906cb8",
   "metadata": {},
   "outputs": [
    {
     "name": "stdout",
     "output_type": "stream",
     "text": [
      "11\n",
      "12\n",
      "13\n",
      "14\n",
      "50\n",
      "60\n"
     ]
    }
   ],
   "source": [
    "# PROBLEM 1 - ADD 50 AND 60 \n",
    "L = [11, 12, 13, 14]\n",
    "L.append(50)\n",
    "L.append(60)\n",
    "\n",
    "for x in L:\n",
    "    print(x)"
   ]
  },
  {
   "cell_type": "code",
   "execution_count": null,
   "id": "d1222857",
   "metadata": {},
   "outputs": [
    {
     "name": "stdout",
     "output_type": "stream",
     "text": [
      "12\n",
      "14\n",
      "50\n",
      "60\n"
     ]
    }
   ],
   "source": [
    "# PROBLEM 2 - REMOVE 11 AND 13\n",
    "L.remove(11)\n",
    "L.remove(13)\n",
    "for x in L:\n",
    "    print(x)"
   ]
  },
  {
   "cell_type": "code",
   "execution_count": 4,
   "id": "efdd79f5",
   "metadata": {},
   "outputs": [
    {
     "name": "stdout",
     "output_type": "stream",
     "text": [
      "12\n",
      "14\n",
      "50\n",
      "60\n"
     ]
    }
   ],
   "source": [
    "# PROBLEM 3 - ASCENDING ORDER \n",
    "L.sort()\n",
    "for x in L:\n",
    "    print(x)"
   ]
  },
  {
   "cell_type": "code",
   "execution_count": null,
   "id": "00da0b60",
   "metadata": {},
   "outputs": [
    {
     "name": "stdout",
     "output_type": "stream",
     "text": [
      "60\n",
      "50\n",
      "14\n",
      "12\n"
     ]
    }
   ],
   "source": [
    "# PROBLEM 4 - DESCENDING ORDER \n",
    "L.reverse()\n",
    "for x in L:\n",
    "    print(x)"
   ]
  },
  {
   "cell_type": "code",
   "execution_count": 13,
   "id": "c0f799ec",
   "metadata": {},
   "outputs": [
    {
     "name": "stdout",
     "output_type": "stream",
     "text": [
      "Not found\n"
     ]
    }
   ],
   "source": [
    "# PROBLEM 5 - SEARCH 13 \n",
    "found = False\n",
    "I = int(0)\n",
    "for x in L:\n",
    "    if x == 13:\n",
    "        print(i) \n",
    "        found = True\n",
    "        break\n",
    "if not found: \n",
    "    print(\"Not found\")"
   ]
  },
  {
   "cell_type": "code",
   "execution_count": 14,
   "id": "6c036983",
   "metadata": {},
   "outputs": [
    {
     "name": "stdout",
     "output_type": "stream",
     "text": [
      "4\n"
     ]
    }
   ],
   "source": [
    "# PROBEM 6 - COUNT THE NUMBER OF ELEMENTS \n",
    "count = 0; \n",
    "for x in L:\n",
    "    count += 1\n",
    "print(count)"
   ]
  },
  {
   "cell_type": "code",
   "execution_count": 15,
   "id": "39c6f19f",
   "metadata": {},
   "outputs": [
    {
     "name": "stdout",
     "output_type": "stream",
     "text": [
      "136\n"
     ]
    }
   ],
   "source": [
    "# PROBLEM 7 - SUM OF ALL ELEMENTS \n",
    "sumAll = 0 \n",
    "for x in L:\n",
    "    sumAll += x \n",
    "print(sumAll)"
   ]
  },
  {
   "cell_type": "code",
   "execution_count": 16,
   "id": "86cc4a1e",
   "metadata": {},
   "outputs": [
    {
     "name": "stdout",
     "output_type": "stream",
     "text": [
      "0\n"
     ]
    }
   ],
   "source": [
    "# PROBLEM 8 - SUM OF ALL ODD NUMBERS\n",
    "sumOdd = 0\n",
    "for x in L:\n",
    "    if x % 2 != 0:  \n",
    "        sumOdd += x\n",
    "print(sumOdd)"
   ]
  },
  {
   "cell_type": "code",
   "execution_count": 17,
   "id": "bf583b1c",
   "metadata": {},
   "outputs": [
    {
     "name": "stdout",
     "output_type": "stream",
     "text": [
      "136\n"
     ]
    }
   ],
   "source": [
    "# PROBLEM 9 - SUM OF ALL EVEN NUMBERS  \n",
    "print(sumAll - sumOdd)"
   ]
  },
  {
   "cell_type": "code",
   "execution_count": null,
   "id": "a6c5de10",
   "metadata": {},
   "outputs": [
    {
     "name": "stdout",
     "output_type": "stream",
     "text": [
      "136\n"
     ]
    }
   ],
   "source": [
    "# PROBELM 10 - SUM OF ALL PRIME NUMBERS \n",
    "import math\n",
    "prime = []\n",
    "for x in L:\n",
    "    for i in range (2, int(math.sqrt(x)) + 1 , 6 ):\n",
    "        if x % i == 0 or x % (i + 2) == 0: \n",
    "            break\n",
    "    prime.append(x)\n",
    "\n",
    "primeSum = 0 \n",
    "for x in prime: \n",
    "    primeSum += x \n",
    "print(primeSum)"
   ]
  },
  {
   "cell_type": "code",
   "execution_count": 23,
   "id": "a27f4ce2",
   "metadata": {},
   "outputs": [],
   "source": [
    "# PROBLEM 11 - CLEAR ALL ELEMENTS ON L \n",
    "L.clear()\n",
    "for x in L:\n",
    "    print(x)"
   ]
  },
  {
   "cell_type": "code",
   "execution_count": 24,
   "id": "47b7451b",
   "metadata": {},
   "outputs": [],
   "source": [
    "# PROBLEM 12 - DELETE ALL \n",
    "del L"
   ]
  },
  {
   "cell_type": "code",
   "execution_count": 25,
   "id": "6f43c8a3",
   "metadata": {},
   "outputs": [
    {
     "ename": "NameError",
     "evalue": "name 'L' is not defined",
     "output_type": "error",
     "traceback": [
      "\u001b[1;31m---------------------------------------------------------------------------\u001b[0m",
      "\u001b[1;31mNameError\u001b[0m                                 Traceback (most recent call last)",
      "Cell \u001b[1;32mIn[25], line 1\u001b[0m\n\u001b[1;32m----> 1\u001b[0m \u001b[38;5;28mprint\u001b[39m(\u001b[43mL\u001b[49m)\n",
      "\u001b[1;31mNameError\u001b[0m: name 'L' is not defined"
     ]
    }
   ],
   "source": [
    "print(L)"
   ]
  }
 ],
 "metadata": {
  "kernelspec": {
   "display_name": "Python 3",
   "language": "python",
   "name": "python3"
  },
  "language_info": {
   "codemirror_mode": {
    "name": "ipython",
    "version": 3
   },
   "file_extension": ".py",
   "mimetype": "text/x-python",
   "name": "python",
   "nbconvert_exporter": "python",
   "pygments_lexer": "ipython3",
   "version": "3.11.0"
  }
 },
 "nbformat": 4,
 "nbformat_minor": 5
}
