{
 "cells": [
  {
   "cell_type": "markdown",
   "id": "d874fdea",
   "metadata": {},
   "source": [
    "Q11. WAP to calculate the time taken by a program."
   ]
  },
  {
   "cell_type": "code",
   "execution_count": 1,
   "id": "6aad5a35",
   "metadata": {},
   "outputs": [
    {
     "name": "stdout",
     "output_type": "stream",
     "text": [
      "[601, 607, 613, 617, 619, 631, 641, 643, 647, 653, 659, 661, 673, 677, 683, 691, 701, 709, 719, 727, 733, 739, 743, 751, 757, 761, 769, 773, 787, 797]\n",
      "0.0016484260559082031\n"
     ]
    }
   ],
   "source": [
    "import time\n",
    "t1 = time.time()\n",
    "import math\n",
    "prime = []\n",
    "for num in range (600, 800):\n",
    "    flag = True\n",
    "    if num % 3 == 0 or num % 2 == 0 :\n",
    "        continue\n",
    "    for i in range (5, int(math.sqrt(num))+ 1, 6):\n",
    "        if (num % i == 0 or num % (i+2) == 0):\n",
    "            flag = False\n",
    "            break; \n",
    "    if(flag):\n",
    "        prime.append(num)\n",
    "print(prime)\n",
    "t2 = time.time()\n",
    "print(t2 - t1)"
   ]
  }
 ],
 "metadata": {
  "kernelspec": {
   "display_name": "Python 3",
   "language": "python",
   "name": "python3"
  },
  "language_info": {
   "codemirror_mode": {
    "name": "ipython",
    "version": 3
   },
   "file_extension": ".py",
   "mimetype": "text/x-python",
   "name": "python",
   "nbconvert_exporter": "python",
   "pygments_lexer": "ipython3",
   "version": "3.11.0"
  }
 },
 "nbformat": 4,
 "nbformat_minor": 5
}
