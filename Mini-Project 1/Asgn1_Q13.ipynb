{
 "cells": [
  {
   "cell_type": "markdown",
   "id": "4bbcd338",
   "metadata": {},
   "source": [
    "WAP to create a dictionary of student marks in five subjects and you have to find the student  \n",
    "having maximum and minimum average marks."
   ]
  },
  {
   "cell_type": "code",
   "execution_count": 1,
   "id": "97bc33be",
   "metadata": {},
   "outputs": [],
   "source": [
    "marks = {\n",
    "    \"Maths\" : 90, \n",
    "    \"SSt\" : 76, \n",
    "    \"English\" : 78, \n",
    "    \"Science\" : 96, \n",
    "    \"Hindi\" : 88\n",
    "}"
   ]
  },
  {
   "cell_type": "code",
   "execution_count": 3,
   "id": "67a88a9e",
   "metadata": {},
   "outputs": [
    {
     "name": "stdout",
     "output_type": "stream",
     "text": [
      "96\n"
     ]
    }
   ],
   "source": [
    "maximum = max(marks.values())\n",
    "print(maximum)"
   ]
  }
 ],
 "metadata": {
  "kernelspec": {
   "display_name": "Python 3",
   "language": "python",
   "name": "python3"
  },
  "language_info": {
   "codemirror_mode": {
    "name": "ipython",
    "version": 3
   },
   "file_extension": ".py",
   "mimetype": "text/x-python",
   "name": "python",
   "nbconvert_exporter": "python",
   "pygments_lexer": "ipython3",
   "version": "3.11.0"
  }
 },
 "nbformat": 4,
 "nbformat_minor": 5
}
