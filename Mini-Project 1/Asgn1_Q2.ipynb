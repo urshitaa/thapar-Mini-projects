{
 "cells": [
  {
   "cell_type": "markdown",
   "id": "47e2061a",
   "metadata": {},
   "source": [
    "Q2. D is a dictionary defined as D= {1:5.6, 2:7.8, 3:6.6, 4:8.7, 5:7.7}. \n",
    "(i) WAP to add new entry in D; key=8 and value is 8.8 \n",
    "(ii) WAP to remove key=2. \n",
    "(iii) WAP to check weather 6 key is present in D. \n",
    "(iv) WAP to count the number of elements present in D. \n",
    "(v) WAP to add all the values present D. \n",
    "(vi) WAP to update the value of 3 to 7.1. \n",
    "(vii) WAP to clear the dictionary. "
   ]
  },
  {
   "cell_type": "code",
   "execution_count": 2,
   "id": "38020fd3",
   "metadata": {},
   "outputs": [
    {
     "name": "stdout",
     "output_type": "stream",
     "text": [
      "{1: 5.6, 2: 7.8, 3: 6.6, 4: 8.7, 5: 7.7, 8: 8.8}\n"
     ]
    }
   ],
   "source": [
    "# (i) WAP to add new entry in D; key=8 and value is 8.8 \n",
    "D = {1:5.6, 2:7.8, 3:6.6, 4:8.7, 5:7.7}\n",
    "D[8] = 8.8 \n",
    "print(D)"
   ]
  },
  {
   "cell_type": "code",
   "execution_count": 3,
   "id": "29feed77",
   "metadata": {},
   "outputs": [
    {
     "name": "stdout",
     "output_type": "stream",
     "text": [
      "{1: 5.6, 3: 6.6, 4: 8.7, 5: 7.7, 8: 8.8}\n"
     ]
    }
   ],
   "source": [
    "# (ii) WAP to remove key=2. \n",
    "D.pop(2)\n",
    "print(D)"
   ]
  },
  {
   "cell_type": "code",
   "execution_count": 7,
   "id": "066c9a4c",
   "metadata": {},
   "outputs": [
    {
     "name": "stdout",
     "output_type": "stream",
     "text": [
      "False\n"
     ]
    }
   ],
   "source": [
    "# (iii) WAP to check weather 6 key is present in D.\n",
    "if 6 in D: \n",
    "    print(\"True\")\n",
    "else:\n",
    "    print(\"False\")\n"
   ]
  },
  {
   "cell_type": "code",
   "execution_count": 8,
   "id": "f2bc1cb2",
   "metadata": {},
   "outputs": [
    {
     "name": "stdout",
     "output_type": "stream",
     "text": [
      "5\n"
     ]
    }
   ],
   "source": [
    "# (iv) WAP to count the number of elements present in D.\n",
    "print(len(D))"
   ]
  },
  {
   "cell_type": "code",
   "execution_count": 10,
   "id": "f0716643",
   "metadata": {},
   "outputs": [
    {
     "name": "stdout",
     "output_type": "stream",
     "text": [
      "37.4\n"
     ]
    }
   ],
   "source": [
    "# (v) WAP to add all the values present D. \n",
    "total = sum(D.values())\n",
    "print(total)"
   ]
  },
  {
   "cell_type": "code",
   "execution_count": 11,
   "id": "e376c880",
   "metadata": {},
   "outputs": [
    {
     "name": "stdout",
     "output_type": "stream",
     "text": [
      "{1: 5.6, 3: 7.1, 4: 8.7, 5: 7.7, 8: 8.8}\n"
     ]
    }
   ],
   "source": [
    "# (vi) WAP to update the value of 3 to 7.1.\n",
    "D[3] = 7.1 \n",
    "print(D)"
   ]
  },
  {
   "cell_type": "code",
   "execution_count": 14,
   "id": "b0d620b6",
   "metadata": {},
   "outputs": [
    {
     "name": "stdout",
     "output_type": "stream",
     "text": [
      "{}\n"
     ]
    }
   ],
   "source": [
    "# (vii) WAP to clear the dictionary. \n",
    "D.clear()\n",
    "print(D)"
   ]
  }
 ],
 "metadata": {
  "kernelspec": {
   "display_name": "Python 3",
   "language": "python",
   "name": "python3"
  },
  "language_info": {
   "codemirror_mode": {
    "name": "ipython",
    "version": 3
   },
   "file_extension": ".py",
   "mimetype": "text/x-python",
   "name": "python",
   "nbconvert_exporter": "python",
   "pygments_lexer": "ipython3",
   "version": "3.11.0"
  }
 },
 "nbformat": 4,
 "nbformat_minor": 5
}
