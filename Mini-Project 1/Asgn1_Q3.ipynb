{
 "cells": [
  {
   "cell_type": "markdown",
   "id": "6ba4fc64",
   "metadata": {},
   "source": [
    "Q3. S1 is a set defined as S1= [10, 20, 30, 40, 50, 60]. \n",
    "S2 is a set defined as S2= [40, 50, 60, 70, 80, 90]. \n",
    "(i) WAP to add 55 and 66 in Set S1. \n",
    "(ii) WAP to remove 10 and 30 from Set S1. \n",
    "(iii) WAP to check whether 40 is present in S1. \n",
    "(iv) WAP to find the union between S1 and S2. \n",
    "(v) WAP to find the intersection between S1 and S2. \n",
    "(vi) WAP to find the S1 - S2. "
   ]
  },
  {
   "cell_type": "code",
   "execution_count": null,
   "id": "e14c1d8e",
   "metadata": {},
   "outputs": [
    {
     "name": "stdout",
     "output_type": "stream",
     "text": [
      "{50, 66, 20, 55, 40, 10, 60, 30}\n"
     ]
    }
   ],
   "source": [
    "# (i) WAP to add 55 and 66 in Set S1 \n",
    "S1 = {10, 20, 30 ,40 , 50, 60}\n",
    "S2 = {40, 50, 60 , 70 , 80 , 90}\n",
    "S1.add(55)\n",
    "S1.add(66)\n",
    "print(S1)"
   ]
  },
  {
   "cell_type": "code",
   "execution_count": null,
   "id": "332e612a",
   "metadata": {},
   "outputs": [
    {
     "name": "stdout",
     "output_type": "stream",
     "text": [
      "{50, 66, 20, 55, 40, 60}\n"
     ]
    }
   ],
   "source": [
    "# (ii) Remove 10 and 30 from S1 \n",
    "S1.remove(10)\n",
    "S1.remove(30)\n",
    "print(S1)"
   ]
  },
  {
   "cell_type": "code",
   "execution_count": null,
   "id": "a41cc690",
   "metadata": {},
   "outputs": [
    {
     "name": "stdout",
     "output_type": "stream",
     "text": [
      "no\n"
     ]
    }
   ],
   "source": [
    "# (iii) Check wether 40 is present \n",
    "if 40 in S1:\n",
    "    print(\"yes\")\n",
    "if 40 not in S1:\n",
    "    print(\"no\")"
   ]
  },
  {
   "cell_type": "code",
   "execution_count": 7,
   "id": "595f0142",
   "metadata": {},
   "outputs": [
    {
     "name": "stdout",
     "output_type": "stream",
     "text": [
      "{66, 70, 40, 80, 50, 20, 55, 90, 60}\n"
     ]
    }
   ],
   "source": [
    "# (iv) Union\n",
    "S3 = S1.union(S2)\n",
    "print(S3) "
   ]
  },
  {
   "cell_type": "code",
   "execution_count": 8,
   "id": "4aa10495",
   "metadata": {},
   "outputs": [
    {
     "name": "stdout",
     "output_type": "stream",
     "text": [
      "{40, 50, 60}\n"
     ]
    }
   ],
   "source": [
    "# (v) Intersection \n",
    "S4 = S1.intersection(S2)\n",
    "print(S4)"
   ]
  },
  {
   "cell_type": "code",
   "execution_count": 9,
   "id": "ad1571f2",
   "metadata": {},
   "outputs": [
    {
     "name": "stdout",
     "output_type": "stream",
     "text": [
      "{66, 20, 55}\n"
     ]
    }
   ],
   "source": [
    "# (vi) S1 - S2 \n",
    "S5 = S1 - S2 \n",
    "print(S5)"
   ]
  }
 ],
 "metadata": {
  "kernelspec": {
   "display_name": "Python 3",
   "language": "python",
   "name": "python3"
  },
  "language_info": {
   "codemirror_mode": {
    "name": "ipython",
    "version": 3
   },
   "file_extension": ".py",
   "mimetype": "text/x-python",
   "name": "python",
   "nbconvert_exporter": "python",
   "pygments_lexer": "ipython3",
   "version": "3.11.0"
  }
 },
 "nbformat": 4,
 "nbformat_minor": 5
}
