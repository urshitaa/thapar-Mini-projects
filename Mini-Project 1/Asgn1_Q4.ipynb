{
 "cells": [
  {
   "cell_type": "markdown",
   "id": "947cbfd7",
   "metadata": {},
   "source": [
    "Q4. Write the following program. \n",
    "(i) WAP to print 100 random strings whose length between 6 and 8. \n",
    "(ii) WAP to print all prime numbers between 600 and 800. \n",
    "(iii) WAP to print all numbers between 100 and 1000 that are divisible by 7 and 9."
   ]
  },
  {
   "cell_type": "code",
   "execution_count": 6,
   "id": "41577132",
   "metadata": {},
   "outputs": [
    {
     "name": "stdout",
     "output_type": "stream",
     "text": [
      "utLMjXe\n",
      "`HHA'\\v\n",
      "_?Ntlt\n",
      "?4fGe,\n",
      "+CBjq2!\n",
      "fPxc7]\n",
      "GMenMK\n",
      "FSxT'Feo\n",
      "N_7!1%\n",
      "m{>H*zjj\n",
      "A~Lf+{=y\n",
      ";]3y<@<i\n",
      "GL8%3G\n",
      "S#('s*gT\n",
      "`2l<O&/\n",
      "-mV7Z$\n",
      "{-wipM'\n",
      "0P+qITT\n",
      "q%h1.x\n",
      "NU/3S!!q\n",
      "_*]'u0X\n",
      "'2b'6w6\n",
      "PUnsG%ai\n",
      "!PX0;r\n",
      "m{kfj~Xr\n",
      "d(1]DQ4j\n",
      "ko)</$Qu\n",
      "3BPT]~Az\n",
      "w?9)'&l0\n",
      "cCy-BN\n",
      "R^#aE6\n",
      "Y&<2}$\n",
      "<RrBVr\n",
      "(5l.hZj\n",
      "@<m}!5F\n",
      "EOM#R6,]\n",
      "B9O:X.q\n",
      "iudUjG`\n",
      "T0VvR5Wo\n",
      "=ko&eJ}8\n",
      "3h1W.{\n",
      "B~`@gp\n",
      "a[DN\")\n",
      "*Zq@(NRW\n",
      "`bZxLcA\n",
      "U!Z|5~6\n",
      "XWI\\E:V\n",
      "wr['=4z,\n",
      "e'~EM+yh\n",
      "KBfq_:!T\n",
      "uqI\"\\a<\n",
      "sP/>IBI\n",
      "b^LfFw7U\n",
      "L?tSm1)\n",
      "dYZo#[Wp\n",
      "X;v;%e\n",
      "5xoT>{]A\n",
      "32%W01?\n",
      "(E9DB]\n",
      "e0WY$G9\n",
      "=Xk*#n\n",
      "\"m</$WM\n",
      "b/CJl0$\n",
      "0xI4mx0X\n",
      "rNjt#eTl\n",
      "LGa39@!v\n",
      "eOOZVXL\n",
      "#oQ!,9\n",
      "*tF:?0\n",
      "1;@[1os&\n",
      "Asw]S>qZ\n",
      "*j.^RKz\n",
      "W]3eh$-G\n",
      ",VI^d$!5\n",
      "(CX8Dx/\n",
      "s&~~<\"J\n",
      "54\\Z[VuD\n",
      "4l,3PYT\n",
      "H(bpl~\n",
      "0r4Y8e\n",
      "X'Q*4v\n",
      "Xh3a`f/\n",
      "J*ZD:XuA\n",
      "?MV<ArQ\n",
      "V\\_JLOk1\n",
      "[EH1|K74\n",
      "~27lCv+a\n",
      "'NqgW/R\n",
      "\"{O.'%\n",
      "e.<+ec~E\n",
      "gGb$If\n",
      "I7L`x4.\n",
      "Ldt$<#)Z\n",
      "Wb14MLA\n",
      "N%'Qd9q8\n",
      "/IJILHS\n",
      "NM[I/K!~\n",
      "rpaS(R\n",
      "3:S~1#2j\n",
      "Y']kOp'\n"
     ]
    }
   ],
   "source": [
    "# (i) WAP to print 100 random strings whose length between 6 and 8. \n",
    "import random \n",
    "import string \n",
    "for i in range(100):\n",
    "    length = random.randint(6,8)\n",
    "    str = ''.join(random.choices(string.printable.strip(), k = length))\n",
    "    print(str)"
   ]
  },
  {
   "cell_type": "code",
   "execution_count": 17,
   "id": "a14e152c",
   "metadata": {},
   "outputs": [
    {
     "name": "stdout",
     "output_type": "stream",
     "text": [
      "[601, 607, 613, 617, 619, 631, 641, 643, 647, 653, 659, 661, 673, 677, 683, 691, 701, 709, 719, 727, 733, 739, 743, 751, 757, 761, 769, 773, 787, 797]\n"
     ]
    }
   ],
   "source": [
    "# (ii) WAP to print all prime numbers between 600 and 800. \n",
    "import math \n",
    "prime = []\n",
    "for x in range (601, 800, 2):\n",
    "    if x % 3 == 0: \n",
    "        continue \n",
    "    flag = True;\n",
    "    for i in range(5, int(math.sqrt(x))+ 1, 6 ): \n",
    "        if x % i == 0 or x % (i + 2) == 0: \n",
    "            flag = False\n",
    "            break\n",
    "    if(flag):\n",
    "        prime.append(x)\n",
    "print(prime)"
   ]
  },
  {
   "cell_type": "code",
   "execution_count": 18,
   "id": "c4d2c025",
   "metadata": {},
   "outputs": [
    {
     "name": "stdout",
     "output_type": "stream",
     "text": [
      "[126, 189, 252, 315, 378, 441, 504, 567, 630, 693, 756, 819, 882, 945]\n"
     ]
    }
   ],
   "source": [
    "# (iii) WAP to print all numbers between 100 and 1000 that are divisible by 7 and 9.\n",
    "num = []\n",
    "for i in range(100, 1000):\n",
    "    if (i % 7 == 0 and i % 9 == 0): \n",
    "        num.append(i); \n",
    "print(num)"
   ]
  }
 ],
 "metadata": {
  "kernelspec": {
   "display_name": "Python 3",
   "language": "python",
   "name": "python3"
  },
  "language_info": {
   "codemirror_mode": {
    "name": "ipython",
    "version": 3
   },
   "file_extension": ".py",
   "mimetype": "text/x-python",
   "name": "python",
   "nbconvert_exporter": "python",
   "pygments_lexer": "ipython3",
   "version": "3.11.0"
  }
 },
 "nbformat": 4,
 "nbformat_minor": 5
}
