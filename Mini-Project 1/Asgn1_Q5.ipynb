{
 "cells": [
  {
   "cell_type": "markdown",
   "id": "cbd4e1f9",
   "metadata": {},
   "source": [
    "Q5. WAP to create two lists of 10 random numbers between 10 and 30; Find  \n",
    "(i) Common numbers in the two lists \n",
    "(ii) Unique numbers in both the list \n",
    "(iii) Minimum in both the list \n",
    "(iv) Maximum in both the list \n",
    "(v) Sum of both the lists"
   ]
  },
  {
   "cell_type": "code",
   "execution_count": null,
   "id": "1bd068a7",
   "metadata": {},
   "outputs": [
    {
     "name": "stdout",
     "output_type": "stream",
     "text": [
      "l1:  [11, 11, 28, 21, 26, 13, 15, 17, 29, 15]\n",
      "l2:  [25, 15, 27, 23, 20, 19, 30, 16, 15, 26]\n",
      "[26, 15]\n"
     ]
    }
   ],
   "source": [
    "# Q5. WAP to create two lists of 10 random numbers between 10 and 30; Find  \n",
    "# (i) Common numbers in the two lists \n",
    "import random\n",
    "l1 = []\n",
    "l2 = [] \n",
    "for i in range(10): \n",
    "    l1.append(random.randint(10,30))\n",
    "    l2.append(random.randint(10,30))\n",
    "print(\"l1: \", l1)\n",
    "print(\"l2: \", l2)\n",
    "common = list(set(l1) & set(l2))\n",
    "print(common)"
   ]
  },
  {
   "cell_type": "code",
   "execution_count": 3,
   "id": "8e51421f",
   "metadata": {},
   "outputs": [
    {
     "name": "stdout",
     "output_type": "stream",
     "text": [
      "l1:  [26, 30, 28, 26, 19, 24, 20, 15, 13, 23]\n",
      "l2:  [11, 15, 26, 14, 21, 23, 11, 20, 18, 26]\n",
      "{11, 13, 14, 15, 18, 19, 20, 21, 23, 24, 26, 28, 30}\n"
     ]
    }
   ],
   "source": [
    "# (ii) Unique numbers in both the list \n",
    "import random \n",
    "l1 = []\n",
    "l2 = []\n",
    "for i in range(10): \n",
    "    l1.append(random.randint(10,30))\n",
    "    l2.append(random.randint(10,30))\n",
    "print(\"l1: \", l1)\n",
    "print(\"l2: \", l2)\n",
    "unique = set(l1 + l2)\n",
    "print(unique)"
   ]
  },
  {
   "cell_type": "code",
   "execution_count": 4,
   "id": "91533041",
   "metadata": {},
   "outputs": [
    {
     "name": "stdout",
     "output_type": "stream",
     "text": [
      "l1:  [24, 26, 13, 30, 12, 15, 14, 19, 14, 18]\n",
      "l2:  [30, 11, 14, 19, 10, 26, 28, 15, 12, 14]\n",
      "10\n"
     ]
    }
   ],
   "source": [
    "# (iii) Minimum in both the list \n",
    "import random \n",
    "l1 = []\n",
    "l2 = []\n",
    "for i in range(10): \n",
    "    l1.append(random.randint(10,30))\n",
    "    l2.append(random.randint(10,30))\n",
    "print(\"l1: \", l1)\n",
    "print(\"l2: \", l2)\n",
    "l3 = set(l1 + l2)\n",
    "print(min(l3))"
   ]
  },
  {
   "cell_type": "code",
   "execution_count": 5,
   "id": "5f655f54",
   "metadata": {},
   "outputs": [
    {
     "name": "stdout",
     "output_type": "stream",
     "text": [
      "l1:  [12, 13, 25, 12, 27, 22, 24, 10, 10, 27]\n",
      "l2:  [30, 21, 20, 11, 29, 18, 17, 30, 19, 14]\n",
      "30\n"
     ]
    }
   ],
   "source": [
    "# (iv) Maximum in both the list \n",
    "import random \n",
    "l1 = []\n",
    "l2 = []\n",
    "for i in range(10): \n",
    "    l1.append(random.randint(10,30))\n",
    "    l2.append(random.randint(10,30))\n",
    "print(\"l1: \", l1)\n",
    "print(\"l2: \", l2)\n",
    "l3 = set(l1 + l2)\n",
    "print(max(l3))"
   ]
  },
  {
   "cell_type": "code",
   "execution_count": 6,
   "id": "8ef17e77",
   "metadata": {},
   "outputs": [
    {
     "name": "stdout",
     "output_type": "stream",
     "text": [
      "l1:  [27, 10, 21, 22, 25, 29, 12, 29, 23, 11]\n",
      "l2:  [10, 28, 21, 18, 25, 16, 12, 25, 12, 24]\n",
      "266\n"
     ]
    }
   ],
   "source": [
    "# (v) Sum of both the lists\n",
    "import random \n",
    "l1 = []\n",
    "l2 = []\n",
    "for i in range(10): \n",
    "    l1.append(random.randint(10,30))\n",
    "    l2.append(random.randint(10,30))\n",
    "print(\"l1: \", l1)\n",
    "print(\"l2: \", l2)\n",
    "l3 = set(l1 + l2)\n",
    "\n",
    "sum = 0 \n",
    "for x in l3:\n",
    "    sum += x\n",
    "print(sum)"
   ]
  }
 ],
 "metadata": {
  "kernelspec": {
   "display_name": "Python 3",
   "language": "python",
   "name": "python3"
  },
  "language_info": {
   "codemirror_mode": {
    "name": "ipython",
    "version": 3
   },
   "file_extension": ".py",
   "mimetype": "text/x-python",
   "name": "python",
   "nbconvert_exporter": "python",
   "pygments_lexer": "ipython3",
   "version": "3.11.0"
  }
 },
 "nbformat": 4,
 "nbformat_minor": 5
}
