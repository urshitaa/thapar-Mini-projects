{
 "cells": [
  {
   "cell_type": "markdown",
   "id": "29e4f86b",
   "metadata": {},
   "source": [
    "Q6. WAP to create a list of 100 random numbers between 100 and 900. Count and print the:  \n",
    "(i) All odd numbers\n",
    "(ii) All even numbers \n",
    "(iii) All prime numbers "
   ]
  },
  {
   "cell_type": "code",
   "execution_count": 11,
   "id": "f4331b48",
   "metadata": {},
   "outputs": [
    {
     "name": "stdout",
     "output_type": "stream",
     "text": [
      "[789, 861, 841, 698, 269, 655, 190, 491, 248, 267, 289, 151, 231, 344, 476, 828, 512, 267, 724, 414, 275, 122, 498, 776, 820, 320, 466, 669, 156, 882, 152, 527, 491, 672, 894, 148, 308, 145, 481, 518, 459, 818, 452, 431, 542, 828, 773, 394, 572, 469, 106, 879, 824, 606, 261, 263, 634, 402, 744, 878, 640, 123, 764, 814, 431, 796, 492, 808, 836, 341, 651, 325, 175, 796, 796, 353, 103, 677, 667, 566, 218, 469, 768, 463, 381, 287, 570, 885, 742, 765, 574, 781, 184, 557, 615, 677, 298, 492, 351, 376]\n",
      "Even:  [698, 190, 248, 344, 476, 828, 512, 724, 414, 122, 498, 776, 820, 320, 466, 156, 882, 152, 672, 894, 148, 308, 518, 818, 452, 542, 828, 394, 572, 106, 824, 606, 634, 402, 744, 878, 640, 764, 814, 796, 492, 808, 836, 796, 796, 566, 218, 768, 570, 742, 574, 184, 298, 492, 376]\n",
      "Odd:  [789, 861, 841, 269, 655, 491, 267, 289, 151, 231, 267, 275, 669, 527, 491, 145, 481, 459, 431, 773, 469, 879, 261, 263, 123, 431, 341, 651, 325, 175, 353, 103, 677, 667, 469, 463, 381, 287, 885, 765, 781, 557, 615, 677, 351]\n",
      "Prime:  [269, 491, 151, 491, 431, 773, 263, 431, 353, 103, 677, 463, 557, 677]\n"
     ]
    }
   ],
   "source": [
    "import random \n",
    "import math\n",
    "l = []\n",
    "for x in range(100):\n",
    "    l.append(random.randint(100,900))\n",
    "print(l)\n",
    "countOdd = 0\n",
    "odd = []    \n",
    "countEven = 0\n",
    "even = []\n",
    "primecount = 0\n",
    "prime = []\n",
    "for x in l:\n",
    "    if (x % 2 == 0): \n",
    "        countEven+=1\n",
    "        even.append(x); \n",
    "\n",
    "    elif (x % 2 != 0): \n",
    "        countOdd+=1\n",
    "        odd.append(x);\n",
    "        \n",
    "        # prime number code begins \n",
    "        if(x % 3 == 0):\n",
    "            continue\n",
    "        flag = True\n",
    "        for i in range (5, int(math.sqrt(x))+1, 6):\n",
    "            if x % i == 0 or x % (i+2) == 0:\n",
    "                flag = False\n",
    "                break\n",
    "        if (flag):\n",
    "            primecount += 1\n",
    "            prime.append(x)\n",
    "\n",
    "print(\"Even: \", even)\n",
    "print(\"Odd: \",odd)\n",
    "print(\"Prime: \",prime)\n"
   ]
  }
 ],
 "metadata": {
  "kernelspec": {
   "display_name": "Python 3",
   "language": "python",
   "name": "python3"
  },
  "language_info": {
   "codemirror_mode": {
    "name": "ipython",
    "version": 3
   },
   "file_extension": ".py",
   "mimetype": "text/x-python",
   "name": "python",
   "nbconvert_exporter": "python",
   "pygments_lexer": "ipython3",
   "version": "3.11.0"
  }
 },
 "nbformat": 4,
 "nbformat_minor": 5
}
