{
 "cells": [
  {
   "cell_type": "markdown",
   "id": "8593d1bd",
   "metadata": {},
   "source": [
    "Q7. D is a dictionary defined as D={1:\"One\",2:\"Two\",3:\"Three\",4:\"Four\", 5:\"Five\"}.  \n",
    "WAP to read all the keys and values from dictionary and write to the file in the given below format. \n",
    "Key1, Value1 \n",
    "Key2, Value2 \n",
    "Key3, Value3 "
   ]
  },
  {
   "cell_type": "code",
   "execution_count": 1,
   "id": "37f50e5b",
   "metadata": {},
   "outputs": [
    {
     "name": "stdout",
     "output_type": "stream",
     "text": [
      "1, One\n",
      "2, Two\n",
      "3, Three\n",
      "4, Four\n",
      "5, Five\n"
     ]
    }
   ],
   "source": [
    "D={1:\"One\",2:\"Two\",3:\"Three\",4:\"Four\", 5:\"Five\"}\n",
    "for key, value in D.items():\n",
    "    print(f\"{key}, {value}\")"
   ]
  },
  {
   "cell_type": "code",
   "execution_count": 7,
   "id": "f3a61623",
   "metadata": {},
   "outputs": [
    {
     "name": "stdout",
     "output_type": "stream",
     "text": [
      "1, One\n",
      "2, Two\n",
      "3, Three\n",
      "4, Four\n",
      "5, Five\n"
     ]
    }
   ],
   "source": [
    "with open('dictData.txt', 'w') as f:\n",
    "    for key, value in D.items():\n",
    "        line = f\"{key}, {value}\"\n",
    "        print(line)\n",
    "        f.write(line + \"\\n\"); \n",
    "    f.close()"
   ]
  }
 ],
 "metadata": {
  "kernelspec": {
   "display_name": "Python 3",
   "language": "python",
   "name": "python3"
  },
  "language_info": {
   "codemirror_mode": {
    "name": "ipython",
    "version": 3
   },
   "file_extension": ".py",
   "mimetype": "text/x-python",
   "name": "python",
   "nbconvert_exporter": "python",
   "pygments_lexer": "ipython3",
   "version": "3.11.0"
  }
 },
 "nbformat": 4,
 "nbformat_minor": 5
}
