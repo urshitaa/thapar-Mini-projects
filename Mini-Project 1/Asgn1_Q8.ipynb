{
 "cells": [
  {
   "cell_type": "markdown",
   "id": "972fc2c9",
   "metadata": {},
   "source": [
    "L is a list defined as L={\"One\",\"Two\",\"Three\",\"Four\",\"Five\"}. \n",
    "WAP to count the length of reach element from a list and write to the file in the given below format: \n",
    "One, 3 \n",
    "Two, 3 \n",
    "Four, 4"
   ]
  },
  {
   "cell_type": "code",
   "execution_count": 11,
   "id": "1c91a891",
   "metadata": {
    "vscode": {
     "languageId": "powershell"
    }
   },
   "outputs": [
    {
     "name": "stdout",
     "output_type": "stream",
     "text": [
      "One 3\n",
      "Two 3\n",
      "Three 5\n",
      "Four 4\n",
      "Five 4\n"
     ]
    }
   ],
   "source": [
    "L=[\"One\",\"Two\",\"Three\",\"Four\",\"Five\"]\n",
    "with open ('list.txt', 'w') as f:\n",
    "    for x in L:\n",
    "        length = str(len(x));  \n",
    "        line = x + \" \" + length\n",
    "        print(line)\n",
    "        f.write(line + \"\\n\")\n",
    "    f.close()"
   ]
  }
 ],
 "metadata": {
  "kernelspec": {
   "display_name": "Python 3",
   "language": "python",
   "name": "python3"
  },
  "language_info": {
   "codemirror_mode": {
    "name": "ipython",
    "version": 3
   },
   "file_extension": ".py",
   "mimetype": "text/x-python",
   "name": "python",
   "nbconvert_exporter": "python",
   "pygments_lexer": "ipython3",
   "version": "3.11.0"
  }
 },
 "nbformat": 4,
 "nbformat_minor": 5
}
