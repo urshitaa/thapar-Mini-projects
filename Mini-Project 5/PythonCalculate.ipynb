{
 "cells": [
  {
   "cell_type": "code",
   "execution_count": null,
   "id": "f2bdfc1f",
   "metadata": {},
   "outputs": [],
   "source": [
    "import time\n",
    "\n",
    "input_file = \"1000MBFile.txt\"\n",
    "output_file = \"Uppercase.txt\""
   ]
  },
  {
   "cell_type": "code",
   "execution_count": 19,
   "id": "338dfbc3",
   "metadata": {},
   "outputs": [],
   "source": [
    "# Start the timer\n",
    "start_time = time.time()\n",
    "\n",
    "# Open input and output files\n",
    "with open(input_file, \"r\", encoding=\"utf-8\") as infile, \\\n",
    "     open(output_file, \"w\", encoding=\"utf-8\") as outfile:\n",
    "    \n",
    "    for line in infile:\n",
    "        outfile.write(line.upper())\n",
    "\n",
    "# End the timer\n",
    "end_time = time.time()"
   ]
  },
  {
   "cell_type": "code",
   "execution_count": 16,
   "id": "40c61582",
   "metadata": {},
   "outputs": [
    {
     "name": "stdout",
     "output_type": "stream",
     "text": [
      "Conversion completed in 12.78 seconds.\n"
     ]
    }
   ],
   "source": [
    "# Calculate total time taken\n",
    "elapsed_time = end_time - start_time\n",
    "print(f\"Conversion completed in {elapsed_time:.2f} seconds.\")"
   ]
  }
 ],
 "metadata": {
  "kernelspec": {
   "display_name": "Python 3",
   "language": "python",
   "name": "python3"
  },
  "language_info": {
   "codemirror_mode": {
    "name": "ipython",
    "version": 3
   },
   "file_extension": ".py",
   "mimetype": "text/x-python",
   "name": "python",
   "nbconvert_exporter": "python",
   "pygments_lexer": "ipython3",
   "version": "3.11.0"
  }
 },
 "nbformat": 4,
 "nbformat_minor": 5
}
